{
 "cells": [
  {
   "cell_type": "code",
   "execution_count": 1,
   "metadata": {},
   "outputs": [],
   "source": [
    "import pandas as pd"
   ]
  },
  {
   "cell_type": "code",
   "execution_count": 2,
   "metadata": {},
   "outputs": [],
   "source": [
    "df = pd.read_csv('Dataset.csv')"
   ]
  },
  {
   "cell_type": "code",
   "execution_count": 3,
   "metadata": {},
   "outputs": [
    {
     "name": "stdout",
     "output_type": "stream",
     "text": [
      "<class 'pandas.core.frame.DataFrame'>\n",
      "RangeIndex: 1128 entries, 0 to 1127\n",
      "Data columns (total 8 columns):\n",
      " #   Column          Non-Null Count  Dtype  \n",
      "---  ------          --------------  -----  \n",
      " 0   Symbol          1128 non-null   object \n",
      " 1   Date            1128 non-null   object \n",
      " 2   Open            1128 non-null   float64\n",
      " 3   High            1128 non-null   float64\n",
      " 4   Low             1128 non-null   float64\n",
      " 5   Close           1128 non-null   float64\n",
      " 6   Percent Change  1128 non-null   object \n",
      " 7   Volume          1128 non-null   object \n",
      "dtypes: float64(4), object(4)\n",
      "memory usage: 70.6+ KB\n"
     ]
    }
   ],
   "source": [
    "df.info()"
   ]
  },
  {
   "cell_type": "code",
   "execution_count": 4,
   "metadata": {},
   "outputs": [
    {
     "data": {
      "text/html": [
       "<div>\n",
       "<style scoped>\n",
       "    .dataframe tbody tr th:only-of-type {\n",
       "        vertical-align: middle;\n",
       "    }\n",
       "\n",
       "    .dataframe tbody tr th {\n",
       "        vertical-align: top;\n",
       "    }\n",
       "\n",
       "    .dataframe thead th {\n",
       "        text-align: right;\n",
       "    }\n",
       "</style>\n",
       "<table border=\"1\" class=\"dataframe\">\n",
       "  <thead>\n",
       "    <tr style=\"text-align: right;\">\n",
       "      <th></th>\n",
       "      <th>Symbol</th>\n",
       "      <th>Date</th>\n",
       "      <th>Open</th>\n",
       "      <th>High</th>\n",
       "      <th>Low</th>\n",
       "      <th>Close</th>\n",
       "      <th>Percent Change</th>\n",
       "      <th>Volume</th>\n",
       "    </tr>\n",
       "  </thead>\n",
       "  <tbody>\n",
       "    <tr>\n",
       "      <th>0</th>\n",
       "      <td>ADBL</td>\n",
       "      <td>2024-08-29</td>\n",
       "      <td>390.0</td>\n",
       "      <td>390.0</td>\n",
       "      <td>374.0</td>\n",
       "      <td>376.4</td>\n",
       "      <td>-1.59 %</td>\n",
       "      <td>171,319.00</td>\n",
       "    </tr>\n",
       "    <tr>\n",
       "      <th>1</th>\n",
       "      <td>ADBL</td>\n",
       "      <td>2024-08-28</td>\n",
       "      <td>382.0</td>\n",
       "      <td>394.9</td>\n",
       "      <td>378.0</td>\n",
       "      <td>382.5</td>\n",
       "      <td>0.13 %</td>\n",
       "      <td>173,834.00</td>\n",
       "    </tr>\n",
       "    <tr>\n",
       "      <th>2</th>\n",
       "      <td>ADBL</td>\n",
       "      <td>2024-08-27</td>\n",
       "      <td>397.0</td>\n",
       "      <td>397.0</td>\n",
       "      <td>379.0</td>\n",
       "      <td>382.0</td>\n",
       "      <td>-4.26 %</td>\n",
       "      <td>316,327.00</td>\n",
       "    </tr>\n",
       "    <tr>\n",
       "      <th>3</th>\n",
       "      <td>ADBL</td>\n",
       "      <td>2024-08-25</td>\n",
       "      <td>402.8</td>\n",
       "      <td>415.0</td>\n",
       "      <td>398.2</td>\n",
       "      <td>399.0</td>\n",
       "      <td>-2.92 %</td>\n",
       "      <td>280,315.00</td>\n",
       "    </tr>\n",
       "    <tr>\n",
       "      <th>4</th>\n",
       "      <td>ADBL</td>\n",
       "      <td>2024-08-22</td>\n",
       "      <td>411.0</td>\n",
       "      <td>420.2</td>\n",
       "      <td>410.3</td>\n",
       "      <td>411.0</td>\n",
       "      <td>-0.94 %</td>\n",
       "      <td>184,187.00</td>\n",
       "    </tr>\n",
       "  </tbody>\n",
       "</table>\n",
       "</div>"
      ],
      "text/plain": [
       "  Symbol        Date   Open   High    Low  Close Percent Change      Volume\n",
       "0   ADBL  2024-08-29  390.0  390.0  374.0  376.4        -1.59 %  171,319.00\n",
       "1   ADBL  2024-08-28  382.0  394.9  378.0  382.5         0.13 %  173,834.00\n",
       "2   ADBL  2024-08-27  397.0  397.0  379.0  382.0        -4.26 %  316,327.00\n",
       "3   ADBL  2024-08-25  402.8  415.0  398.2  399.0        -2.92 %  280,315.00\n",
       "4   ADBL  2024-08-22  411.0  420.2  410.3  411.0        -0.94 %  184,187.00"
      ]
     },
     "execution_count": 4,
     "metadata": {},
     "output_type": "execute_result"
    }
   ],
   "source": [
    "df.head()"
   ]
  },
  {
   "cell_type": "code",
   "execution_count": 5,
   "metadata": {},
   "outputs": [
    {
     "data": {
      "text/html": [
       "<div>\n",
       "<style scoped>\n",
       "    .dataframe tbody tr th:only-of-type {\n",
       "        vertical-align: middle;\n",
       "    }\n",
       "\n",
       "    .dataframe tbody tr th {\n",
       "        vertical-align: top;\n",
       "    }\n",
       "\n",
       "    .dataframe thead th {\n",
       "        text-align: right;\n",
       "    }\n",
       "</style>\n",
       "<table border=\"1\" class=\"dataframe\">\n",
       "  <thead>\n",
       "    <tr style=\"text-align: right;\">\n",
       "      <th></th>\n",
       "      <th>Open</th>\n",
       "      <th>High</th>\n",
       "      <th>Low</th>\n",
       "      <th>Close</th>\n",
       "    </tr>\n",
       "  </thead>\n",
       "  <tbody>\n",
       "    <tr>\n",
       "      <th>count</th>\n",
       "      <td>1128.000000</td>\n",
       "      <td>1128.000000</td>\n",
       "      <td>1128.000000</td>\n",
       "      <td>1128.000000</td>\n",
       "    </tr>\n",
       "    <tr>\n",
       "      <th>mean</th>\n",
       "      <td>366.019309</td>\n",
       "      <td>370.556472</td>\n",
       "      <td>360.247163</td>\n",
       "      <td>364.908599</td>\n",
       "    </tr>\n",
       "    <tr>\n",
       "      <th>std</th>\n",
       "      <td>95.955139</td>\n",
       "      <td>97.289997</td>\n",
       "      <td>94.148392</td>\n",
       "      <td>95.700882</td>\n",
       "    </tr>\n",
       "    <tr>\n",
       "      <th>min</th>\n",
       "      <td>225.000000</td>\n",
       "      <td>225.000000</td>\n",
       "      <td>223.000000</td>\n",
       "      <td>223.400000</td>\n",
       "    </tr>\n",
       "    <tr>\n",
       "      <th>25%</th>\n",
       "      <td>266.600000</td>\n",
       "      <td>269.000000</td>\n",
       "      <td>260.000000</td>\n",
       "      <td>263.000000</td>\n",
       "    </tr>\n",
       "    <tr>\n",
       "      <th>50%</th>\n",
       "      <td>374.000000</td>\n",
       "      <td>382.000000</td>\n",
       "      <td>368.000000</td>\n",
       "      <td>374.500000</td>\n",
       "    </tr>\n",
       "    <tr>\n",
       "      <th>75%</th>\n",
       "      <td>435.000000</td>\n",
       "      <td>440.000000</td>\n",
       "      <td>428.000000</td>\n",
       "      <td>433.000000</td>\n",
       "    </tr>\n",
       "    <tr>\n",
       "      <th>max</th>\n",
       "      <td>604.800000</td>\n",
       "      <td>620.000000</td>\n",
       "      <td>590.000000</td>\n",
       "      <td>597.000000</td>\n",
       "    </tr>\n",
       "  </tbody>\n",
       "</table>\n",
       "</div>"
      ],
      "text/plain": [
       "              Open         High          Low        Close\n",
       "count  1128.000000  1128.000000  1128.000000  1128.000000\n",
       "mean    366.019309   370.556472   360.247163   364.908599\n",
       "std      95.955139    97.289997    94.148392    95.700882\n",
       "min     225.000000   225.000000   223.000000   223.400000\n",
       "25%     266.600000   269.000000   260.000000   263.000000\n",
       "50%     374.000000   382.000000   368.000000   374.500000\n",
       "75%     435.000000   440.000000   428.000000   433.000000\n",
       "max     604.800000   620.000000   590.000000   597.000000"
      ]
     },
     "execution_count": 5,
     "metadata": {},
     "output_type": "execute_result"
    }
   ],
   "source": [
    "df.describe()"
   ]
  },
  {
   "cell_type": "code",
   "execution_count": 7,
   "metadata": {},
   "outputs": [
    {
     "data": {
      "text/plain": [
       "Symbol            0\n",
       "Date              0\n",
       "Open              0\n",
       "High              0\n",
       "Low               0\n",
       "Close             0\n",
       "Percent Change    0\n",
       "Volume            0\n",
       "dtype: int64"
      ]
     },
     "execution_count": 7,
     "metadata": {},
     "output_type": "execute_result"
    }
   ],
   "source": [
    "df.isnull().sum()"
   ]
  },
  {
   "cell_type": "markdown",
   "metadata": {},
   "source": [
    "Convert the data types\n"
   ]
  },
  {
   "cell_type": "code",
   "execution_count": 9,
   "metadata": {},
   "outputs": [],
   "source": [
    "# Replace non-numeric values in 'Percent Change' and 'Volume'\n",
    "df['Percent Change'] = df['Percent Change'].replace('-', pd.NA).str.replace('%', '').str.replace(',', '')\n",
    "df['Volume'] = df['Volume'].replace('-', pd.NA).str.replace(',', '')"
   ]
  },
  {
   "cell_type": "code",
   "execution_count": 10,
   "metadata": {},
   "outputs": [],
   "source": [
    "# Convert to numeric\n",
    "df['Percent Change'] = pd.to_numeric(df['Percent Change'], errors='coerce') / 100\n",
    "df['Volume'] = pd.to_numeric(df['Volume'], errors='coerce')\n"
   ]
  },
  {
   "cell_type": "code",
   "execution_count": 11,
   "metadata": {},
   "outputs": [
    {
     "name": "stdout",
     "output_type": "stream",
     "text": [
      "<class 'pandas.core.frame.DataFrame'>\n",
      "RangeIndex: 1128 entries, 0 to 1127\n",
      "Data columns (total 8 columns):\n",
      " #   Column          Non-Null Count  Dtype         \n",
      "---  ------          --------------  -----         \n",
      " 0   Symbol          1128 non-null   object        \n",
      " 1   Date            1128 non-null   datetime64[ns]\n",
      " 2   Open            1128 non-null   float64       \n",
      " 3   High            1128 non-null   float64       \n",
      " 4   Low             1128 non-null   float64       \n",
      " 5   Close           1128 non-null   float64       \n",
      " 6   Percent Change  1127 non-null   float64       \n",
      " 7   Volume          1128 non-null   float64       \n",
      "dtypes: datetime64[ns](1), float64(6), object(1)\n",
      "memory usage: 70.6+ KB\n"
     ]
    }
   ],
   "source": [
    "# Convert 'Date' to datetime format\n",
    "df['Date'] = pd.to_datetime(df['Date'])\n",
    "\n",
    "# Confirm the changes\n",
    "df.info()"
   ]
  },
  {
   "cell_type": "markdown",
   "metadata": {},
   "source": [
    "Feature Engineering"
   ]
  },
  {
   "cell_type": "code",
   "execution_count": 12,
   "metadata": {},
   "outputs": [],
   "source": [
    "# Example: Create a new feature for price range\n",
    "df['Price Range'] = df['High'] - df['Low']\n"
   ]
  },
  {
   "cell_type": "markdown",
   "metadata": {},
   "source": [
    "Normalize Data"
   ]
  },
  {
   "cell_type": "code",
   "execution_count": 13,
   "metadata": {},
   "outputs": [],
   "source": [
    "from sklearn.preprocessing import StandardScaler\n",
    "\n",
    "# Initialize the scaler\n",
    "scaler = StandardScaler()\n",
    "\n",
    "# Define feature columns\n",
    "features = ['Open', 'High', 'Low', 'Close', 'Percent Change', 'Volume', 'Price Range']\n",
    "\n",
    "# Fit and transform the feature columns\n",
    "df[features] = scaler.fit_transform(df[features])\n"
   ]
  },
  {
   "cell_type": "markdown",
   "metadata": {},
   "source": [
    "Split the dataset"
   ]
  },
  {
   "cell_type": "code",
   "execution_count": 14,
   "metadata": {},
   "outputs": [],
   "source": [
    "from sklearn.model_selection import train_test_split\n",
    "\n",
    "# Define features and target\n",
    "X = df[features]  # Features\n",
    "y = df['Close']   # Target variable (example)\n",
    "\n",
    "# Split the data into training and testing sets\n",
    "X_train, X_test, y_train, y_test = train_test_split(X, y, test_size=0.2, random_state=42)\n"
   ]
  },
  {
   "cell_type": "markdown",
   "metadata": {},
   "source": [
    "Saving the cleaned data"
   ]
  },
  {
   "cell_type": "code",
   "execution_count": 15,
   "metadata": {},
   "outputs": [
    {
     "name": "stdout",
     "output_type": "stream",
     "text": [
      "Data cleaned and saved to 'cleaned_data.csv'\n"
     ]
    }
   ],
   "source": [
    "# Save the cleaned data to a new CSV file\n",
    "df.to_csv('cleaned_data.csv', index=False)\n",
    "\n",
    "# Confirm the saved file\n",
    "print(\"Data cleaned and saved to 'cleaned_data.csv'\")\n"
   ]
  }
 ],
 "metadata": {
  "kernelspec": {
   "display_name": "stock",
   "language": "python",
   "name": "python3"
  },
  "language_info": {
   "codemirror_mode": {
    "name": "ipython",
    "version": 3
   },
   "file_extension": ".py",
   "mimetype": "text/x-python",
   "name": "python",
   "nbconvert_exporter": "python",
   "pygments_lexer": "ipython3",
   "version": "3.12.4"
  }
 },
 "nbformat": 4,
 "nbformat_minor": 2
}
